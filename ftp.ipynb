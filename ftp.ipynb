{
 "cells": [
  {
   "metadata": {},
   "cell_type": "code",
   "outputs": [],
   "execution_count": null,
   "source": [
    "from ftplib import FTP"
   ],
   "id": "79b046b65c7825ae"
  },
  {
   "metadata": {},
   "cell_type": "code",
   "outputs": [],
   "execution_count": null,
   "source": "",
   "id": "417b0735e82210c9"
  },
  {
   "metadata": {},
   "cell_type": "code",
   "outputs": [],
   "execution_count": null,
   "source": "",
   "id": "97464dd5986d366b"
  },
  {
   "metadata": {
    "ExecuteTime": {
     "end_time": "2024-11-06T12:47:26.296209Z",
     "start_time": "2024-11-06T12:47:26.092247Z"
    }
   },
   "cell_type": "code",
   "source": [
    "import pysftp\n",
    "\n",
    "# Define SFTP server details\n",
    "hostname = \"34.229.225.73\"  # Replace with your server\n",
    "username = \"mdad\"\n",
    "password = \"komatsu\"\n",
    "remote_path = \"/home/mdad\"  # The directory to navigate to on the SFTP server\n",
    "\n",
    "# Connect to the SFTP server\n",
    "with pysftp.Connection(host=hostname, username=username, password=password) as sftp:\n",
    "    # 1. Change directory\n",
    "    # sftp.cwd(remote_path)\n",
    "\n",
    "    # 2. List files in the remote directory\n",
    "    print(\"Files in remote directory:\")\n",
    "    print(sftp.listdir())\n",
    "\n",
    "    # 3. Download a file from the remote directory\n",
    "    sftp.get(\"remote_filename.txt\", \"local_filename.txt\")  # Replace names as needed\n",
    "\n",
    "    # 4. Upload a file to the remote directory\n",
    "    sftp.put(\"local_filename.txt\", \"remote_filename.txt\")  # Replace names as needed\n",
    "\n",
    "# Connection automatically closes after exiting the `with` block\n",
    "print(\"SFTP session closed.\")"
   ],
   "id": "a48a339fbe8b30a8",
   "outputs": [
    {
     "name": "stderr",
     "output_type": "stream",
     "text": [
      "C:\\Users\\andmn\\PycharmProjects\\kohub\\venv\\Lib\\site-packages\\pysftp\\__init__.py:61: UserWarning: Failed to load HostKeys from C:\\Users\\andmn\\.ssh\\known_hosts.  You will need to explicitly load HostKeys (cnopts.hostkeys.load(filename)) or disableHostKey checking (cnopts.hostkeys = None).\n",
      "  warnings.warn(wmsg, UserWarning)\n"
     ]
    },
    {
     "ename": "SSHException",
     "evalue": "No hostkey for host 34.229.225.73 found.",
     "output_type": "error",
     "traceback": [
      "\u001B[1;31m---------------------------------------------------------------------------\u001B[0m",
      "\u001B[1;31mSSHException\u001B[0m                              Traceback (most recent call last)",
      "Cell \u001B[1;32mIn[3], line 10\u001B[0m\n\u001B[0;32m      6\u001B[0m password \u001B[38;5;241m=\u001B[39m \u001B[38;5;124m\"\u001B[39m\u001B[38;5;124mkomatsu\u001B[39m\u001B[38;5;124m\"\u001B[39m\n\u001B[0;32m      7\u001B[0m \u001B[38;5;66;03m# remote_path = \"/path/to/directory\"  # The directory to navigate to on the SFTP server\u001B[39;00m\n\u001B[0;32m      8\u001B[0m \n\u001B[0;32m      9\u001B[0m \u001B[38;5;66;03m# Connect to the SFTP server\u001B[39;00m\n\u001B[1;32m---> 10\u001B[0m \u001B[38;5;28;01mwith\u001B[39;00m \u001B[43mpysftp\u001B[49m\u001B[38;5;241;43m.\u001B[39;49m\u001B[43mConnection\u001B[49m\u001B[43m(\u001B[49m\u001B[43mhost\u001B[49m\u001B[38;5;241;43m=\u001B[39;49m\u001B[43mhostname\u001B[49m\u001B[43m,\u001B[49m\u001B[43m \u001B[49m\u001B[43musername\u001B[49m\u001B[38;5;241;43m=\u001B[39;49m\u001B[43musername\u001B[49m\u001B[43m,\u001B[49m\u001B[43m \u001B[49m\u001B[43mpassword\u001B[49m\u001B[38;5;241;43m=\u001B[39;49m\u001B[43mpassword\u001B[49m\u001B[43m)\u001B[49m \u001B[38;5;28;01mas\u001B[39;00m sftp:\n\u001B[0;32m     11\u001B[0m     \u001B[38;5;66;03m# 1. Change directory\u001B[39;00m\n\u001B[0;32m     12\u001B[0m     \u001B[38;5;66;03m# sftp.cwd(remote_path)\u001B[39;00m\n\u001B[0;32m     13\u001B[0m \n\u001B[0;32m     14\u001B[0m     \u001B[38;5;66;03m# 2. List files in the remote directory\u001B[39;00m\n\u001B[0;32m     15\u001B[0m     \u001B[38;5;28mprint\u001B[39m(\u001B[38;5;124m\"\u001B[39m\u001B[38;5;124mFiles in remote directory:\u001B[39m\u001B[38;5;124m\"\u001B[39m)\n\u001B[0;32m     16\u001B[0m     \u001B[38;5;28mprint\u001B[39m(sftp\u001B[38;5;241m.\u001B[39mlistdir())\n",
      "File \u001B[1;32m~\\PycharmProjects\\kohub\\venv\\Lib\\site-packages\\pysftp\\__init__.py:132\u001B[0m, in \u001B[0;36mConnection.__init__\u001B[1;34m(self, host, username, private_key, password, port, private_key_pass, ciphers, log, cnopts, default_path)\u001B[0m\n\u001B[0;32m    130\u001B[0m \u001B[38;5;66;03m# check that we have a hostkey to verify\u001B[39;00m\n\u001B[0;32m    131\u001B[0m \u001B[38;5;28;01mif\u001B[39;00m \u001B[38;5;28mself\u001B[39m\u001B[38;5;241m.\u001B[39m_cnopts\u001B[38;5;241m.\u001B[39mhostkeys \u001B[38;5;129;01mis\u001B[39;00m \u001B[38;5;129;01mnot\u001B[39;00m \u001B[38;5;28;01mNone\u001B[39;00m:\n\u001B[1;32m--> 132\u001B[0m     \u001B[38;5;28mself\u001B[39m\u001B[38;5;241m.\u001B[39m_tconnect[\u001B[38;5;124m'\u001B[39m\u001B[38;5;124mhostkey\u001B[39m\u001B[38;5;124m'\u001B[39m] \u001B[38;5;241m=\u001B[39m \u001B[38;5;28;43mself\u001B[39;49m\u001B[38;5;241;43m.\u001B[39;49m\u001B[43m_cnopts\u001B[49m\u001B[38;5;241;43m.\u001B[39;49m\u001B[43mget_hostkey\u001B[49m\u001B[43m(\u001B[49m\u001B[43mhost\u001B[49m\u001B[43m)\u001B[49m\n\u001B[0;32m    134\u001B[0m \u001B[38;5;28mself\u001B[39m\u001B[38;5;241m.\u001B[39m_sftp_live \u001B[38;5;241m=\u001B[39m \u001B[38;5;28;01mFalse\u001B[39;00m\n\u001B[0;32m    135\u001B[0m \u001B[38;5;28mself\u001B[39m\u001B[38;5;241m.\u001B[39m_sftp \u001B[38;5;241m=\u001B[39m \u001B[38;5;28;01mNone\u001B[39;00m\n",
      "File \u001B[1;32m~\\PycharmProjects\\kohub\\venv\\Lib\\site-packages\\pysftp\\__init__.py:71\u001B[0m, in \u001B[0;36mCnOpts.get_hostkey\u001B[1;34m(self, host)\u001B[0m\n\u001B[0;32m     69\u001B[0m kval \u001B[38;5;241m=\u001B[39m \u001B[38;5;28mself\u001B[39m\u001B[38;5;241m.\u001B[39mhostkeys\u001B[38;5;241m.\u001B[39mlookup(host)  \u001B[38;5;66;03m# None|{keytype: PKey}\u001B[39;00m\n\u001B[0;32m     70\u001B[0m \u001B[38;5;28;01mif\u001B[39;00m kval \u001B[38;5;129;01mis\u001B[39;00m \u001B[38;5;28;01mNone\u001B[39;00m:\n\u001B[1;32m---> 71\u001B[0m     \u001B[38;5;28;01mraise\u001B[39;00m SSHException(\u001B[38;5;124m\"\u001B[39m\u001B[38;5;124mNo hostkey for host \u001B[39m\u001B[38;5;132;01m%s\u001B[39;00m\u001B[38;5;124m found.\u001B[39m\u001B[38;5;124m\"\u001B[39m \u001B[38;5;241m%\u001B[39m host)\n\u001B[0;32m     72\u001B[0m \u001B[38;5;66;03m# return the pkey from the dict\u001B[39;00m\n\u001B[0;32m     73\u001B[0m \u001B[38;5;28;01mreturn\u001B[39;00m \u001B[38;5;28mlist\u001B[39m(kval\u001B[38;5;241m.\u001B[39mvalues())[\u001B[38;5;241m0\u001B[39m]\n",
      "\u001B[1;31mSSHException\u001B[0m: No hostkey for host 34.229.225.73 found."
     ]
    }
   ],
   "execution_count": 3
  },
  {
   "metadata": {
    "ExecuteTime": {
     "end_time": "2024-11-06T12:44:04.181962Z",
     "start_time": "2024-11-06T12:43:43.098975Z"
    }
   },
   "cell_type": "code",
   "source": [
    "# 1. Connect to FTP server\n",
    "ftp = FTP(\"34.229.225.73\")  # Replace with your FTP server address\n",
    "\n",
    "# 2. Login (if needed)\n",
    "ftp.login(user=\"mdad\", passwd=\"komatsu\")  # Replace with your FTP credentials\n",
    "\n",
    "# 3. List files and directories\n",
    "ftp.retrlines(\"LIST\")  # This lists files and directories in the current directory\n",
    "A"
   ],
   "id": "60c6ec7ebdd14ccf",
   "outputs": [
    {
     "ename": "TimeoutError",
     "evalue": "[WinError 10060] Se produjo un error durante el intento de conexión ya que la parte conectada no respondió adecuadamente tras un periodo de tiempo, o bien se produjo un error en la conexión establecida ya que el host conectado no ha podido responder",
     "output_type": "error",
     "traceback": [
      "\u001B[1;31m---------------------------------------------------------------------------\u001B[0m",
      "\u001B[1;31mTimeoutError\u001B[0m                              Traceback (most recent call last)",
      "Cell \u001B[1;32mIn[2], line 2\u001B[0m\n\u001B[0;32m      1\u001B[0m \u001B[38;5;66;03m# 1. Connect to FTP server\u001B[39;00m\n\u001B[1;32m----> 2\u001B[0m ftp \u001B[38;5;241m=\u001B[39m \u001B[43mFTP\u001B[49m\u001B[43m(\u001B[49m\u001B[38;5;124;43m\"\u001B[39;49m\u001B[38;5;124;43m34.229.225.73\u001B[39;49m\u001B[38;5;124;43m\"\u001B[39;49m\u001B[43m)\u001B[49m  \u001B[38;5;66;03m# Replace with your FTP server address\u001B[39;00m\n\u001B[0;32m      4\u001B[0m \u001B[38;5;66;03m# 2. Login (if needed)\u001B[39;00m\n\u001B[0;32m      5\u001B[0m ftp\u001B[38;5;241m.\u001B[39mlogin(user\u001B[38;5;241m=\u001B[39m\u001B[38;5;124m\"\u001B[39m\u001B[38;5;124mmdad\u001B[39m\u001B[38;5;124m\"\u001B[39m, passwd\u001B[38;5;241m=\u001B[39m\u001B[38;5;124m\"\u001B[39m\u001B[38;5;124mkomatsu\u001B[39m\u001B[38;5;124m\"\u001B[39m)  \u001B[38;5;66;03m# Replace with your FTP credentials\u001B[39;00m\n",
      "File \u001B[1;32mC:\\Program Files\\WindowsApps\\PythonSoftwareFoundation.Python.3.12_3.12.2032.0_x64__qbz5n2kfra8p0\\Lib\\ftplib.py:121\u001B[0m, in \u001B[0;36mFTP.__init__\u001B[1;34m(self, host, user, passwd, acct, timeout, source_address, encoding)\u001B[0m\n\u001B[0;32m    119\u001B[0m \u001B[38;5;28mself\u001B[39m\u001B[38;5;241m.\u001B[39mtimeout \u001B[38;5;241m=\u001B[39m timeout\n\u001B[0;32m    120\u001B[0m \u001B[38;5;28;01mif\u001B[39;00m host:\n\u001B[1;32m--> 121\u001B[0m     \u001B[38;5;28;43mself\u001B[39;49m\u001B[38;5;241;43m.\u001B[39;49m\u001B[43mconnect\u001B[49m\u001B[43m(\u001B[49m\u001B[43mhost\u001B[49m\u001B[43m)\u001B[49m\n\u001B[0;32m    122\u001B[0m     \u001B[38;5;28;01mif\u001B[39;00m user:\n\u001B[0;32m    123\u001B[0m         \u001B[38;5;28mself\u001B[39m\u001B[38;5;241m.\u001B[39mlogin(user, passwd, acct)\n",
      "File \u001B[1;32mC:\\Program Files\\WindowsApps\\PythonSoftwareFoundation.Python.3.12_3.12.2032.0_x64__qbz5n2kfra8p0\\Lib\\ftplib.py:158\u001B[0m, in \u001B[0;36mFTP.connect\u001B[1;34m(self, host, port, timeout, source_address)\u001B[0m\n\u001B[0;32m    156\u001B[0m     \u001B[38;5;28mself\u001B[39m\u001B[38;5;241m.\u001B[39msource_address \u001B[38;5;241m=\u001B[39m source_address\n\u001B[0;32m    157\u001B[0m sys\u001B[38;5;241m.\u001B[39maudit(\u001B[38;5;124m\"\u001B[39m\u001B[38;5;124mftplib.connect\u001B[39m\u001B[38;5;124m\"\u001B[39m, \u001B[38;5;28mself\u001B[39m, \u001B[38;5;28mself\u001B[39m\u001B[38;5;241m.\u001B[39mhost, \u001B[38;5;28mself\u001B[39m\u001B[38;5;241m.\u001B[39mport)\n\u001B[1;32m--> 158\u001B[0m \u001B[38;5;28mself\u001B[39m\u001B[38;5;241m.\u001B[39msock \u001B[38;5;241m=\u001B[39m \u001B[43msocket\u001B[49m\u001B[38;5;241;43m.\u001B[39;49m\u001B[43mcreate_connection\u001B[49m\u001B[43m(\u001B[49m\u001B[43m(\u001B[49m\u001B[38;5;28;43mself\u001B[39;49m\u001B[38;5;241;43m.\u001B[39;49m\u001B[43mhost\u001B[49m\u001B[43m,\u001B[49m\u001B[43m \u001B[49m\u001B[38;5;28;43mself\u001B[39;49m\u001B[38;5;241;43m.\u001B[39;49m\u001B[43mport\u001B[49m\u001B[43m)\u001B[49m\u001B[43m,\u001B[49m\u001B[43m \u001B[49m\u001B[38;5;28;43mself\u001B[39;49m\u001B[38;5;241;43m.\u001B[39;49m\u001B[43mtimeout\u001B[49m\u001B[43m,\u001B[49m\n\u001B[0;32m    159\u001B[0m \u001B[43m                                     \u001B[49m\u001B[43msource_address\u001B[49m\u001B[38;5;241;43m=\u001B[39;49m\u001B[38;5;28;43mself\u001B[39;49m\u001B[38;5;241;43m.\u001B[39;49m\u001B[43msource_address\u001B[49m\u001B[43m)\u001B[49m\n\u001B[0;32m    160\u001B[0m \u001B[38;5;28mself\u001B[39m\u001B[38;5;241m.\u001B[39maf \u001B[38;5;241m=\u001B[39m \u001B[38;5;28mself\u001B[39m\u001B[38;5;241m.\u001B[39msock\u001B[38;5;241m.\u001B[39mfamily\n\u001B[0;32m    161\u001B[0m \u001B[38;5;28mself\u001B[39m\u001B[38;5;241m.\u001B[39mfile \u001B[38;5;241m=\u001B[39m \u001B[38;5;28mself\u001B[39m\u001B[38;5;241m.\u001B[39msock\u001B[38;5;241m.\u001B[39mmakefile(\u001B[38;5;124m'\u001B[39m\u001B[38;5;124mr\u001B[39m\u001B[38;5;124m'\u001B[39m, encoding\u001B[38;5;241m=\u001B[39m\u001B[38;5;28mself\u001B[39m\u001B[38;5;241m.\u001B[39mencoding)\n",
      "File \u001B[1;32mC:\\Program Files\\WindowsApps\\PythonSoftwareFoundation.Python.3.12_3.12.2032.0_x64__qbz5n2kfra8p0\\Lib\\socket.py:865\u001B[0m, in \u001B[0;36mcreate_connection\u001B[1;34m(address, timeout, source_address, all_errors)\u001B[0m\n\u001B[0;32m    863\u001B[0m \u001B[38;5;28;01mtry\u001B[39;00m:\n\u001B[0;32m    864\u001B[0m     \u001B[38;5;28;01mif\u001B[39;00m \u001B[38;5;129;01mnot\u001B[39;00m all_errors:\n\u001B[1;32m--> 865\u001B[0m         \u001B[38;5;28;01mraise\u001B[39;00m exceptions[\u001B[38;5;241m0\u001B[39m]\n\u001B[0;32m    866\u001B[0m     \u001B[38;5;28;01mraise\u001B[39;00m ExceptionGroup(\u001B[38;5;124m\"\u001B[39m\u001B[38;5;124mcreate_connection failed\u001B[39m\u001B[38;5;124m\"\u001B[39m, exceptions)\n\u001B[0;32m    867\u001B[0m \u001B[38;5;28;01mfinally\u001B[39;00m:\n\u001B[0;32m    868\u001B[0m     \u001B[38;5;66;03m# Break explicitly a reference cycle\u001B[39;00m\n",
      "File \u001B[1;32mC:\\Program Files\\WindowsApps\\PythonSoftwareFoundation.Python.3.12_3.12.2032.0_x64__qbz5n2kfra8p0\\Lib\\socket.py:850\u001B[0m, in \u001B[0;36mcreate_connection\u001B[1;34m(address, timeout, source_address, all_errors)\u001B[0m\n\u001B[0;32m    848\u001B[0m \u001B[38;5;28;01mif\u001B[39;00m source_address:\n\u001B[0;32m    849\u001B[0m     sock\u001B[38;5;241m.\u001B[39mbind(source_address)\n\u001B[1;32m--> 850\u001B[0m \u001B[43msock\u001B[49m\u001B[38;5;241;43m.\u001B[39;49m\u001B[43mconnect\u001B[49m\u001B[43m(\u001B[49m\u001B[43msa\u001B[49m\u001B[43m)\u001B[49m\n\u001B[0;32m    851\u001B[0m \u001B[38;5;66;03m# Break explicitly a reference cycle\u001B[39;00m\n\u001B[0;32m    852\u001B[0m exceptions\u001B[38;5;241m.\u001B[39mclear()\n",
      "\u001B[1;31mTimeoutError\u001B[0m: [WinError 10060] Se produjo un error durante el intento de conexión ya que la parte conectada no respondió adecuadamente tras un periodo de tiempo, o bien se produjo un error en la conexión establecida ya que el host conectado no ha podido responder"
     ]
    }
   ],
   "execution_count": 2
  },
  {
   "metadata": {},
   "cell_type": "code",
   "outputs": [],
   "execution_count": null,
   "source": "",
   "id": "f17d7be33c6591cf"
  },
  {
   "metadata": {},
   "cell_type": "code",
   "outputs": [],
   "execution_count": null,
   "source": "",
   "id": "a3b7219828cd7e7a"
  },
  {
   "cell_type": "code",
   "id": "initial_id",
   "metadata": {
    "collapsed": true,
    "jupyter": {
     "is_executing": true
    },
    "ExecuteTime": {
     "start_time": "2024-11-06T12:42:00.956504Z"
    }
   },
   "source": [
    "# 1. Connect to FTP server\n",
    "ftp = FTP(\"34.229.225.73\")  # Replace with your FTP server address\n",
    "\n",
    "# 2. Login (if needed)\n",
    "ftp.login(user=\"mdad\", passwd=\"komatsu\")  # Replace with your FTP credentials\n",
    "\n",
    "# 3. List files and directories\n",
    "ftp.retrlines(\"LIST\")  # This lists files and directories in the current directory\n",
    "\n",
    "# 4. Change directory (if needed)\n",
    "ftp.cwd(\"/path/to/directory\")  # Replace with the directory path\n",
    "\n",
    "# 5. Download a file\n",
    "with open(\"local_filename.txt\", \"wb\") as local_file:  # 'wb' mode for binary files\n",
    "    ftp.retrbinary(\n",
    "        \"RETR remote_filename.txt\", local_file.write\n",
    "    )  # Replace 'remote_filename.txt'\n",
    "\n",
    "# 6. Upload a file\n",
    "with open(\"local_filename.txt\", \"rb\") as local_file:  # 'rb' mode for binary files\n",
    "    ftp.storbinary(\n",
    "        \"STOR remote_filename.txt\", local_file\n",
    "    )  # Replace 'remote_filename.txt'\n",
    "\n",
    "# 7. Close the connection\n",
    "ftp.quit()"
   ],
   "outputs": [],
   "execution_count": null
  }
 ],
 "metadata": {
  "kernelspec": {
   "display_name": "Python 3",
   "language": "python",
   "name": "python3"
  },
  "language_info": {
   "codemirror_mode": {
    "name": "ipython",
    "version": 2
   },
   "file_extension": ".py",
   "mimetype": "text/x-python",
   "name": "python",
   "nbconvert_exporter": "python",
   "pygments_lexer": "ipython2",
   "version": "2.7.6"
  }
 },
 "nbformat": 4,
 "nbformat_minor": 5
}
